{
 "cells": [
  {
   "cell_type": "code",
   "execution_count": 1,
   "metadata": {},
   "outputs": [
    {
     "name": "stdout",
     "output_type": "stream",
     "text": [
      "0813\n"
     ]
    }
   ],
   "source": [
    "print('0813')"
   ]
  },
  {
   "cell_type": "code",
   "execution_count": 4,
   "metadata": {},
   "outputs": [
    {
     "name": "stdout",
     "output_type": "stream",
     "text": [
      "歡迎光臨!\n"
     ]
    }
   ],
   "source": [
    "\n",
    "密碼=int(input('請輸入密碼:'))\n",
    "if 密碼==1234:\n",
    "    print('密碼正確!')\n",
    "    print('歡迎光臨!')\n",
    "else:\n",
    "    print('密碼錯誤!')\n"
   ]
  },
  {
   "cell_type": "code",
   "execution_count": null,
   "metadata": {},
   "outputs": [],
   "source": [
    "rain=input('今天會下雨嗎?')\n",
    "if rain=='Y' or rain=='y':\n",
    "    print('出門記得帶傘!')\n",
    "else:\n",
    "    print('不用帶傘')"
   ]
  },
  {
   "cell_type": "code",
   "execution_count": 5,
   "metadata": {},
   "outputs": [
    {
     "name": "stdout",
     "output_type": "stream",
     "text": [
      "你輸入的數字是奇數\n"
     ]
    }
   ],
   "source": [
    "偶數判斷=int(input('請輸入一個整數'))\n",
    "if 偶數判斷%2==0:\n",
    "    print('你輸入的數字是偶數')\n",
    "else:\n",
    "    print('你輸入的數字是奇數')"
   ]
  },
  {
   "cell_type": "code",
   "execution_count": 7,
   "metadata": {},
   "outputs": [
    {
     "name": "stdout",
     "output_type": "stream",
     "text": [
      "你輸入的數字是偶數\n"
     ]
    }
   ],
   "source": [
    "奇數判斷=int(input('請輸入一個整數'))\n",
    "if 奇數判斷%2==1:\n",
    "    print('你輸入的數字是奇數')\n",
    "else:\n",
    "    print('你輸入的數字是偶數')"
   ]
  },
  {
   "cell_type": "code",
   "execution_count": 13,
   "metadata": {},
   "outputs": [
    {
     "name": "stdout",
     "output_type": "stream",
     "text": [
      "體溫正常!\n"
     ]
    }
   ],
   "source": [
    "體溫=float(input('請輸入你的體溫'))\n",
    "if 體溫>=37.5:\n",
    "    print('體溫過高!')\n",
    "elif 37<=體溫<=37.4:\n",
    "    print('梯溫略高!')\n",
    "elif 34<=體溫<=36.9:\n",
    "    print('體溫正常!')\n",
    "else:\n",
    "    print('體溫異常，請重新量測!')"
   ]
  },
  {
   "cell_type": "code",
   "execution_count": 12,
   "metadata": {},
   "outputs": [
    {
     "name": "stdout",
     "output_type": "stream",
     "text": [
      "A\n"
     ]
    }
   ],
   "source": [
    "成績=int(input('請輸入成績'))\n",
    "if 成績>=90:\n",
    "    print('A')\n",
    "    print('A')\n",
    "elif 80<=成績<=89:\n",
    "    print('B')\n",
    "elif 70<=成績<=79:\n",
    "    print('C')\n",
    "elif 60<=成績<=69:\n",
    "    print('D')\n",
    "else:\n",
    "    print('E')"
   ]
  },
  {
   "cell_type": "code",
   "execution_count": 14,
   "metadata": {},
   "outputs": [
    {
     "name": "stdout",
     "output_type": "stream",
     "text": [
      "最終價格 8000\n"
     ]
    }
   ],
   "source": [
    "\n",
    "金額=int(input('請輸入購物金額'))\n",
    "if 金額>1000:\n",
    "    total=int(金額*0.8)\n",
    "    print('最終價格',total)\n",
    "elif 500<=金額<=1000:\n",
    "    total=int(金額*0.9)\n",
    "    print('最終價格',total)\n",
    "elif 金額<500:\n",
    "    print('最終價格',金額)\n",
    "\n"
   ]
  },
  {
   "cell_type": "code",
   "execution_count": 15,
   "metadata": {},
   "outputs": [
    {
     "name": "stdout",
     "output_type": "stream",
     "text": [
      "油量充足\n"
     ]
    }
   ],
   "source": [
    "油量=int(input('請輸入油量(公升)'))\n",
    "if 油量>10:\n",
    "    print('油量充足')\n",
    "elif 5<=油量<=10:\n",
    "    print('油量不足，建議加油')\n",
    "elif 油量<5:\n",
    "    print('需立即加油!')"
   ]
  },
  {
   "cell_type": "code",
   "execution_count": 20,
   "metadata": {},
   "outputs": [
    {
     "name": "stdout",
     "output_type": "stream",
     "text": [
      "13250\n"
     ]
    }
   ],
   "source": [
    "金額=int(input('請輸入轉帳金額'))\n",
    "if 金額>10000:\n",
    "    print('最終轉帳金額為',金額)\n",
    "elif 5000<=金額<=10000:\n",
    "    print('最終轉帳金額為',金額+50)\n",
    "elif 1000<=金額<=5000:\n",
    "    print('最終轉帳金額為',金額+100)\n",
    "elif 金額<1000:\n",
    "    print('最終轉帳金額為',金額+150)\n",
    "\n"
   ]
  },
  {
   "cell_type": "code",
   "execution_count": null,
   "metadata": {},
   "outputs": [],
   "source": []
  }
 ],
 "metadata": {
  "kernelspec": {
   "display_name": "python_saul",
   "language": "python",
   "name": "python3"
  },
  "language_info": {
   "codemirror_mode": {
    "name": "ipython",
    "version": 3
   },
   "file_extension": ".py",
   "mimetype": "text/x-python",
   "name": "python",
   "nbconvert_exporter": "python",
   "pygments_lexer": "ipython3",
   "version": "3.12.4"
  }
 },
 "nbformat": 4,
 "nbformat_minor": 2
}
