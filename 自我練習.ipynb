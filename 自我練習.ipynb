{
 "cells": [
  {
   "cell_type": "code",
   "execution_count": 5,
   "metadata": {},
   "outputs": [
    {
     "name": "stdout",
     "output_type": "stream",
     "text": [
      "歡迎光臨!\n"
     ]
    }
   ],
   "source": [
    "密碼=input('請輸入密碼:')\n",
    "code=str(1234)\n",
    "if 密碼==code:\n",
    "    print('歡迎光臨!')\n",
    "else:\n",
    "    print('請勿打擾!')"
   ]
  },
  {
   "cell_type": "code",
   "execution_count": 7,
   "metadata": {},
   "outputs": [
    {
     "name": "stdout",
     "output_type": "stream",
     "text": [
      "6年後存款為: 11261.62419264\n"
     ]
    }
   ],
   "source": [
    "本金=int(input('請輸入本金存款金額:'))\n",
    "六年後的本金=float(本金*(1+0.02)**6)\n",
    "print('6年後存款為:',六年後的本金)"
   ]
  },
  {
   "cell_type": "code",
   "execution_count": 8,
   "metadata": {},
   "outputs": [],
   "source": [
    "a,b,c=2,4,2"
   ]
  },
  {
   "cell_type": "code",
   "execution_count": 9,
   "metadata": {},
   "outputs": [
    {
     "name": "stdout",
     "output_type": "stream",
     "text": [
      "在 2 4 2 下 解1= -4.0\n"
     ]
    }
   ],
   "source": [
    "s1=-b+(b**2-4*a*c)**0.5/(2*a)\n",
    "print('在',a,b,c,'下','解1=',s1)\n"
   ]
  },
  {
   "cell_type": "code",
   "execution_count": 10,
   "metadata": {},
   "outputs": [
    {
     "name": "stdout",
     "output_type": "stream",
     "text": [
      "在 5 4 1 下 解1= (-4+0.2j)\n"
     ]
    }
   ],
   "source": [
    "a,b,c=5,4,1\n",
    "s1=-b+(b**2-4*a*c)**0.5/(2*a)\n",
    "print('在',a,b,c,'下','解1=',s1)"
   ]
  },
  {
   "cell_type": "code",
   "execution_count": 11,
   "metadata": {},
   "outputs": [],
   "source": [
    "import math"
   ]
  },
  {
   "cell_type": "code",
   "execution_count": 17,
   "metadata": {},
   "outputs": [
    {
     "name": "stdout",
     "output_type": "stream",
     "text": [
      "Radius={:,2f} 5\n",
      "circumference={:,2f} 31.41592653589793\n",
      "Area={:,2f} 78.53981633974483\n"
     ]
    }
   ],
   "source": [
    "Radius=eval(input())\n",
    "pi=math.pi\n",
    "circumference=(Radius+Radius)*pi\n",
    "Area=Radius*Radius*pi\n",
    "print(\"Radius={:,2f}\" ,format(Radius))\n",
    "print(\"circumference={:,2f}\" ,format(circumference))\n",
    "print(\"Area={:,2f}\" ,format(Area))\n"
   ]
  },
  {
   "cell_type": "code",
   "execution_count": 31,
   "metadata": {},
   "outputs": [
    {
     "name": "stdout",
     "output_type": "stream",
     "text": [
      "10 is even\n"
     ]
    }
   ],
   "source": [
    "answer=int(input(\"give me an integer\"))\n",
    "if answer>=0:\n",
    "\n",
    "    if  answer%2==0:\n",
    "        print(answer,'is even')\n",
    "    else:\n",
    "        print(answer,'is odd')\n",
    "else:\n",
    "    print('Input Error')"
   ]
  },
  {
   "cell_type": "code",
   "execution_count": 32,
   "metadata": {},
   "outputs": [
    {
     "name": "stdout",
     "output_type": "stream",
     "text": [
      "Input Error\n"
     ]
    }
   ],
   "source": [
    "season=int(input())\n",
    "if 1<=season<=3:\n",
    "    print(season,'is spring')\n",
    "elif 4<=season<=6:\n",
    "    print(season,'is summer')\n",
    "elif 7<=season<=9:\n",
    "    print(season,'is autumn')\n",
    "elif 10<=season<=12:\n",
    "    print(season,'is winter')\n",
    "else:\n",
    "    print('Input Error')"
   ]
  },
  {
   "cell_type": "code",
   "execution_count": null,
   "metadata": {},
   "outputs": [],
   "source": []
  }
 ],
 "metadata": {
  "kernelspec": {
   "display_name": "Python 3",
   "language": "python",
   "name": "python3"
  },
  "language_info": {
   "codemirror_mode": {
    "name": "ipython",
    "version": 3
   },
   "file_extension": ".py",
   "mimetype": "text/x-python",
   "name": "python",
   "nbconvert_exporter": "python",
   "pygments_lexer": "ipython3",
   "version": "3.12.4"
  }
 },
 "nbformat": 4,
 "nbformat_minor": 2
}
