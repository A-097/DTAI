{
 "cells": [
  {
   "cell_type": "code",
   "execution_count": 1,
   "metadata": {},
   "outputs": [
    {
     "name": "stdout",
     "output_type": "stream",
     "text": [
      "請勿打擾!\n"
     ]
    }
   ],
   "source": [
    "密碼=input('請輸入密碼:')\n",
    "code=str(1234)\n",
    "if 密碼==code:\n",
    "    print('歡迎光臨!')\n",
    "else:\n",
    "    print('請勿打擾!')"
   ]
  },
  {
   "cell_type": "code",
   "execution_count": 7,
   "metadata": {},
   "outputs": [
    {
     "name": "stdout",
     "output_type": "stream",
     "text": [
      "6年後存款為: 11261.62419264\n"
     ]
    }
   ],
   "source": [
    "本金=int(input('請輸入本金存款金額:'))\n",
    "六年後的本金=float(本金*(1+0.02)**6)\n",
    "print('6年後存款為:',六年後的本金)"
   ]
  },
  {
   "cell_type": "code",
   "execution_count": 38,
   "metadata": {},
   "outputs": [
    {
     "name": "stdout",
     "output_type": "stream",
     "text": [
      "400 yuan\n"
     ]
    }
   ],
   "source": [
    "distance=int(input())\n",
    "if distance<0:\n",
    "    print('Input Error')\n",
    "elif distance==0:\n",
    "    print('0 yuan')\n",
    "elif 1<=distance<=5:\n",
    "    print('240 yuan')\n",
    "else:\n",
    "    price=240+(distance-5)*40\n",
    "    print(price,'yuan')"
   ]
  },
  {
   "cell_type": "code",
   "execution_count": 8,
   "metadata": {},
   "outputs": [
    {
     "name": "stdout",
     "output_type": "stream",
     "text": [
      "115927.40743\n"
     ]
    }
   ],
   "source": [
    "year=int(input())\n",
    "if year<0:\n",
    "    print('Input Error')\n",
    "else:\n",
    "    price=100000*(1+0.03)**year\n",
    "    print(float(price))"
   ]
  },
  {
   "cell_type": "code",
   "execution_count": 15,
   "metadata": {},
   "outputs": [
    {
     "name": "stdout",
     "output_type": "stream",
     "text": [
      "3\n"
     ]
    }
   ],
   "source": [
    "a,b,c=int(input()),int(input()),int(input())\n",
    "if a<=b and a<=c:\n",
    "    print(a)\n",
    "elif b<=a and b<=c:\n",
    "    print(b)\n",
    "elif c<=a and c<=b:\n",
    "    print(c)\n",
    "else:\n",
    "    print('Input Error')"
   ]
  },
  {
   "cell_type": "code",
   "execution_count": 1,
   "metadata": {},
   "outputs": [
    {
     "name": "stdout",
     "output_type": "stream",
     "text": [
      "出門記得帶傘!\n"
     ]
    }
   ],
   "source": [
    "rain=input('今天會下雨嗎?')\n",
    "if rain=='Y'.lower():\n",
    "    print('出門記得帶傘!')\n",
    "else:\n",
    "    print('不用帶傘')"
   ]
  },
  {
   "cell_type": "code",
   "execution_count": 1,
   "metadata": {},
   "outputs": [
    {
     "name": "stdout",
     "output_type": "stream",
     "text": [
      "9 是秋天\n"
     ]
    }
   ],
   "source": [
    "季節=int(input('請輸入月份'))\n",
    "if 3<=季節<=5:\n",
    "    print(季節,'是春天')\n",
    "elif 6<=季節<=8:\n",
    "    print(季節,'是夏天')\n",
    "elif 9<=季節<=11:\n",
    "    print(季節,'是秋天')\n",
    "elif 1<=季節<=2 or 季節==12:\n",
    "    print(季節,'是冬天')\n",
    "else:\n",
    "    print('月份錯誤')\n"
   ]
  },
  {
   "cell_type": "code",
   "execution_count": 17,
   "metadata": {},
   "outputs": [
    {
     "name": "stdout",
     "output_type": "stream",
     "text": [
      "1, 4, 9, 16, 25, 36, 49, 64, 81, 100, "
     ]
    }
   ],
   "source": [
    "\n",
    "\n",
    "a=range(1,11)\n",
    "for a in range(1,11):\n",
    "    print( a**2 ,end=', ')\n"
   ]
  },
  {
   "cell_type": "code",
   "execution_count": 3,
   "metadata": {},
   "outputs": [
    {
     "name": "stdout",
     "output_type": "stream",
     "text": [
      "[1, 2, 3, 4, 5, 6, 7, 8, 9, 10, 11, 12, 13, 14, 15, 16, 17, 18, 19, 20, 21, 22, 23, 24, 25, 26, 27, 28, 29, 30, 31, 32, 33, 34, 35, 36, 37, 38, 39, 40, 41, 42, 43, 44, 45, 46, 47, 48, 49, 50, 51, 52, 53, 54, 55, 56, 57, 58, 59, 60, 61, 62, 63, 64, 65, 66, 67, 68, 69, 70, 71, 72, 73, 74, 75, 76, 77, 78, 79, 80, 81, 82, 83, 84, 85, 86, 87, 88, 89, 90, 91, 92, 93, 94, 95, 96, 97, 98, 99, 100, 101, 102, 103, 104, 105, 106, 107, 108, 109, 110, 111, 112, 113, 114, 115, 116, 117, 118, 119, 120]\n"
     ]
    }
   ],
   "source": [
    "print(list(a))"
   ]
  },
  {
   "cell_type": "code",
   "execution_count": 11,
   "metadata": {},
   "outputs": [
    {
     "name": "stdout",
     "output_type": "stream",
     "text": [
      "1+3+5+...+199= 10000\n"
     ]
    }
   ],
   "source": [
    "total=0\n",
    "for j in range(1,200,2):\n",
    "    total+=j\n",
    "print('1+3+5+...+199=',total)"
   ]
  },
  {
   "cell_type": "code",
   "execution_count": 13,
   "metadata": {},
   "outputs": [
    {
     "name": "stdout",
     "output_type": "stream",
     "text": [
      "-9\n",
      "-7\n",
      "-5\n",
      "-3\n",
      "-1\n",
      "-9+-7+...+-1= -25\n"
     ]
    }
   ],
   "source": [
    "total=0\n",
    "for n in range(-9,0,2):\n",
    "    total=int(total+n)\n",
    "    print(n)\n",
    "print('-9+-7+...+-1=',total)"
   ]
  },
  {
   "cell_type": "code",
   "execution_count": 20,
   "metadata": {},
   "outputs": [
    {
     "name": "stdout",
     "output_type": "stream",
     "text": [
      "60\n"
     ]
    }
   ],
   "source": [
    "a,b,c=input().split()\n",
    "a1=int(a)\n",
    "b1=int(b)\n",
    "c1=int(c)\n",
    "if a1<=b1 and a1<=c1:\n",
    "    print(a)\n",
    "elif b1<=a1 and b1<=c1:\n",
    "    print(b)\n",
    "elif c1<=a1 and c1<=b1:\n",
    "    print(c)"
   ]
  },
  {
   "cell_type": "code",
   "execution_count": 26,
   "metadata": {},
   "outputs": [
    {
     "name": "stdout",
     "output_type": "stream",
     "text": [
      "2+3*4-6/2=11.000000\n"
     ]
    }
   ],
   "source": [
    "a=2+3*4-6/2\n",
    "print(f'2+3*4-6/2={round(a,1):f}')"
   ]
  },
  {
   "cell_type": "code",
   "execution_count": 31,
   "metadata": {},
   "outputs": [
    {
     "name": "stdout",
     "output_type": "stream",
     "text": [
      "圓的面積是： 78.5\n",
      "圓的周長是： 31.4\n"
     ]
    }
   ],
   "source": [
    "x=float(input('請輸入圓的半徑：'))\n",
    "a=x*x*3.14\n",
    "print('圓的面積是：',round(a,2))\n",
    "b=x*2*3.14\n",
    "print('圓的周長是：',round(b,2))"
   ]
  },
  {
   "cell_type": "code",
   "execution_count": 1,
   "metadata": {},
   "outputs": [
    {
     "data": {
      "text/plain": [
       "20"
      ]
     },
     "execution_count": 1,
     "metadata": {},
     "output_type": "execute_result"
    }
   ],
   "source": [
    "a,b,c,d=input().split()\n",
    "a1=int(a)\n",
    "b1=int(b)\n",
    "c1=int(c)\n",
    "d1=int(d)\n",
    "min(a1,b1,c1,d1)"
   ]
  },
  {
   "cell_type": "code",
   "execution_count": 6,
   "metadata": {},
   "outputs": [
    {
     "data": {
      "text/plain": [
       "99.5"
      ]
     },
     "execution_count": 6,
     "metadata": {},
     "output_type": "execute_result"
    }
   ],
   "source": [
    "a,b,c=input().split()\n",
    "a1=float(a)\n",
    "b1=float(b)\n",
    "c1=float(c)\n",
    "if a1>b1 and a1>c1:\n",
    "    print(a1)\n",
    "elif b1>a1 and b1>c1:\n",
    "    print(b1)\n",
    "elif c1>a1 and c1>b1:\n",
    "    print(c1)\n"
   ]
  },
  {
   "cell_type": "code",
   "execution_count": 8,
   "metadata": {},
   "outputs": [
    {
     "name": "stdout",
     "output_type": "stream",
     "text": [
      "0~50的奇數和結果是 650\n"
     ]
    }
   ],
   "source": [
    "n=0\n",
    "sum=0\n",
    "while n<50:\n",
    "    n+=2\n",
    "    sum+=n\n",
    "print('0~50的奇數和結果是',sum)"
   ]
  },
  {
   "cell_type": "code",
   "execution_count": 10,
   "metadata": {},
   "outputs": [
    {
     "name": "stdout",
     "output_type": "stream",
     "text": [
      "1723613515.8684185\n"
     ]
    }
   ],
   "source": [
    "from time import time as time_now\n",
    "now=time_now()\n",
    "print(now)"
   ]
  },
  {
   "cell_type": "code",
   "execution_count": 13,
   "metadata": {},
   "outputs": [
    {
     "name": "stdout",
     "output_type": "stream",
     "text": [
      "25\n"
     ]
    }
   ],
   "source": [
    "asum=0\n",
    "for a in range(1,1000):\n",
    "    for b in range(1,1000):\n",
    "        if (a**2+b**2)%(a*b+1)==0:\n",
    "            asum+=1\n",
    "print(asum)"
   ]
  },
  {
   "cell_type": "code",
   "execution_count": 12,
   "metadata": {},
   "outputs": [
    {
     "name": "stdout",
     "output_type": "stream",
     "text": [
      "165\n"
     ]
    }
   ],
   "source": [
    "sum=0\n",
    "for i in range(1,10):\n",
    "    for j in range(1,i+1):\n",
    "        sum+=j\n",
    "print(sum)"
   ]
  },
  {
   "cell_type": "code",
   "execution_count": 14,
   "metadata": {},
   "outputs": [],
   "source": [
    "from turtle import*\n",
    "forward(200)\n",
    "left(90)\n",
    "forward(300)"
   ]
  },
  {
   "cell_type": "code",
   "execution_count": 15,
   "metadata": {},
   "outputs": [
    {
     "name": "stdout",
     "output_type": "stream",
     "text": [
      "Happy Sunday\n",
      "Happy Sunday\n",
      "Happy Sunday\n",
      "Happy Sunday\n",
      "Happy Sunday\n",
      "Happy Sunday\n",
      "Happy Sunday\n",
      "Happy Sunday\n",
      "Happy Sunday\n"
     ]
    }
   ],
   "source": [
    "while True:\n",
    "    user_input=input('輸入任意鍵顯示 Happy　Sunday,輸入 n 退出')\n",
    "    if user_input=='n':\n",
    "        break\n",
    "    print('Happy Sunday')"
   ]
  },
  {
   "cell_type": "code",
   "execution_count": 29,
   "metadata": {},
   "outputs": [
    {
     "name": "stdout",
     "output_type": "stream",
     "text": [
      "2394\n"
     ]
    }
   ],
   "source": [
    "a=int(input())\n",
    "n=16\n",
    "sum=0\n",
    "while n<=a:\n",
    "    \n",
    "    sum+=n\n",
    "    n+=2\n",
    "print(sum)"
   ]
  },
  {
   "cell_type": "code",
   "execution_count": 36,
   "metadata": {},
   "outputs": [
    {
     "name": "stdout",
     "output_type": "stream",
     "text": [
      "\n",
      "*\n",
      "**\n",
      "***\n",
      "****\n"
     ]
    }
   ],
   "source": [
    "n=int(input())\n",
    "for a in range(0,n+1):\n",
    "    print(\"*\"*a)"
   ]
  },
  {
   "cell_type": "code",
   "execution_count": 40,
   "metadata": {},
   "outputs": [
    {
     "name": "stdout",
     "output_type": "stream",
     "text": [
      "1\n",
      "2\n",
      "3\n",
      "4\n",
      "5\n",
      "6\n"
     ]
    }
   ],
   "source": [
    "a=int(input())\n",
    "b=0\n",
    "while b<=a:\n",
    "    b+=1\n",
    "    print(b)\n",
    "    "
   ]
  },
  {
   "cell_type": "code",
   "execution_count": null,
   "metadata": {},
   "outputs": [],
   "source": []
  }
 ],
 "metadata": {
  "kernelspec": {
   "display_name": "Python 3",
   "language": "python",
   "name": "python3"
  },
  "language_info": {
   "codemirror_mode": {
    "name": "ipython",
    "version": 3
   },
   "file_extension": ".py",
   "mimetype": "text/x-python",
   "name": "python",
   "nbconvert_exporter": "python",
   "pygments_lexer": "ipython3",
   "version": "3.12.4"
  }
 },
 "nbformat": 4,
 "nbformat_minor": 2
}
