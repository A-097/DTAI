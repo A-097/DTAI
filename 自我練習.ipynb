{
 "cells": [
  {
   "cell_type": "code",
   "execution_count": 1,
   "metadata": {},
   "outputs": [
    {
     "name": "stdout",
     "output_type": "stream",
     "text": [
      "請勿打擾!\n"
     ]
    }
   ],
   "source": [
    "密碼=input('請輸入密碼:')\n",
    "code=str(1234)\n",
    "if 密碼==code:\n",
    "    print('歡迎光臨!')\n",
    "else:\n",
    "    print('請勿打擾!')"
   ]
  },
  {
   "cell_type": "code",
   "execution_count": 7,
   "metadata": {},
   "outputs": [
    {
     "name": "stdout",
     "output_type": "stream",
     "text": [
      "6年後存款為: 11261.62419264\n"
     ]
    }
   ],
   "source": [
    "本金=int(input('請輸入本金存款金額:'))\n",
    "六年後的本金=float(本金*(1+0.02)**6)\n",
    "print('6年後存款為:',六年後的本金)"
   ]
  },
  {
   "cell_type": "code",
   "execution_count": 38,
   "metadata": {},
   "outputs": [
    {
     "name": "stdout",
     "output_type": "stream",
     "text": [
      "400 yuan\n"
     ]
    }
   ],
   "source": [
    "distance=int(input())\n",
    "if distance<0:\n",
    "    print('Input Error')\n",
    "elif distance==0:\n",
    "    print('0 yuan')\n",
    "elif 1<=distance<=5:\n",
    "    print('240 yuan')\n",
    "else:\n",
    "    price=240+(distance-5)*40\n",
    "    print(price,'yuan')"
   ]
  },
  {
   "cell_type": "code",
   "execution_count": 8,
   "metadata": {},
   "outputs": [
    {
     "name": "stdout",
     "output_type": "stream",
     "text": [
      "115927.40743\n"
     ]
    }
   ],
   "source": [
    "year=int(input())\n",
    "if year<0:\n",
    "    print('Input Error')\n",
    "else:\n",
    "    price=100000*(1+0.03)**year\n",
    "    print(float(price))"
   ]
  },
  {
   "cell_type": "code",
   "execution_count": 37,
   "metadata": {},
   "outputs": [
    {
     "name": "stdout",
     "output_type": "stream",
     "text": [
      "-20\n"
     ]
    }
   ],
   "source": [
    "a,b,c=int(input(' ')),int(input(' ')),int(input(' '))\n",
    "if a<b and a<c:\n",
    "    print(a)\n",
    "elif b<a and b<c:\n",
    "    print(b)\n",
    "elif c<a and c<b:\n",
    "    print(c)\n",
    "else:\n",
    "    print('Input Error')"
   ]
  },
  {
   "cell_type": "code",
   "execution_count": null,
   "metadata": {},
   "outputs": [],
   "source": []
  }
 ],
 "metadata": {
  "kernelspec": {
   "display_name": "Python 3",
   "language": "python",
   "name": "python3"
  },
  "language_info": {
   "codemirror_mode": {
    "name": "ipython",
    "version": 3
   },
   "file_extension": ".py",
   "mimetype": "text/x-python",
   "name": "python",
   "nbconvert_exporter": "python",
   "pygments_lexer": "ipython3",
   "version": "3.12.4"
  }
 },
 "nbformat": 4,
 "nbformat_minor": 2
}
