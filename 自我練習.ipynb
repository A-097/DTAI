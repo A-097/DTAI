{
 "cells": [
  {
   "cell_type": "code",
   "execution_count": 1,
   "metadata": {},
   "outputs": [
    {
     "name": "stdout",
     "output_type": "stream",
     "text": [
      "請勿打擾!\n"
     ]
    }
   ],
   "source": [
    "密碼=input('請輸入密碼:')\n",
    "code=str(1234)\n",
    "if 密碼==code:\n",
    "    print('歡迎光臨!')\n",
    "else:\n",
    "    print('請勿打擾!')"
   ]
  },
  {
   "cell_type": "code",
   "execution_count": 7,
   "metadata": {},
   "outputs": [
    {
     "name": "stdout",
     "output_type": "stream",
     "text": [
      "6年後存款為: 11261.62419264\n"
     ]
    }
   ],
   "source": [
    "本金=int(input('請輸入本金存款金額:'))\n",
    "六年後的本金=float(本金*(1+0.02)**6)\n",
    "print('6年後存款為:',六年後的本金)"
   ]
  },
  {
   "cell_type": "code",
   "execution_count": 38,
   "metadata": {},
   "outputs": [
    {
     "name": "stdout",
     "output_type": "stream",
     "text": [
      "400 yuan\n"
     ]
    }
   ],
   "source": [
    "distance=int(input())\n",
    "if distance<0:\n",
    "    print('Input Error')\n",
    "elif distance==0:\n",
    "    print('0 yuan')\n",
    "elif 1<=distance<=5:\n",
    "    print('240 yuan')\n",
    "else:\n",
    "    price=240+(distance-5)*40\n",
    "    print(price,'yuan')"
   ]
  },
  {
   "cell_type": "code",
   "execution_count": 8,
   "metadata": {},
   "outputs": [
    {
     "name": "stdout",
     "output_type": "stream",
     "text": [
      "115927.40743\n"
     ]
    }
   ],
   "source": [
    "year=int(input())\n",
    "if year<0:\n",
    "    print('Input Error')\n",
    "else:\n",
    "    price=100000*(1+0.03)**year\n",
    "    print(float(price))"
   ]
  },
  {
   "cell_type": "code",
   "execution_count": 15,
   "metadata": {},
   "outputs": [
    {
     "name": "stdout",
     "output_type": "stream",
     "text": [
      "3\n"
     ]
    }
   ],
   "source": [
    "a,b,c=int(input()),int(input()),int(input())\n",
    "if a<=b and a<=c:\n",
    "    print(a)\n",
    "elif b<=a and b<=c:\n",
    "    print(b)\n",
    "elif c<=a and c<=b:\n",
    "    print(c)\n",
    "else:\n",
    "    print('Input Error')"
   ]
  },
  {
   "cell_type": "code",
   "execution_count": 1,
   "metadata": {},
   "outputs": [
    {
     "name": "stdout",
     "output_type": "stream",
     "text": [
      "出門記得帶傘!\n"
     ]
    }
   ],
   "source": [
    "rain=input('今天會下雨嗎?')\n",
    "if rain=='Y'.lower():\n",
    "    print('出門記得帶傘!')\n",
    "else:\n",
    "    print('不用帶傘')"
   ]
  },
  {
   "cell_type": "code",
   "execution_count": 1,
   "metadata": {},
   "outputs": [
    {
     "name": "stdout",
     "output_type": "stream",
     "text": [
      "9 是秋天\n"
     ]
    }
   ],
   "source": [
    "季節=int(input('請輸入月份'))\n",
    "if 3<=季節<=5:\n",
    "    print(季節,'是春天')\n",
    "elif 6<=季節<=8:\n",
    "    print(季節,'是夏天')\n",
    "elif 9<=季節<=11:\n",
    "    print(季節,'是秋天')\n",
    "elif 1<=季節<=2 or 季節==12:\n",
    "    print(季節,'是冬天')\n",
    "else:\n",
    "    print('月份錯誤')\n"
   ]
  },
  {
   "cell_type": "code",
   "execution_count": 17,
   "metadata": {},
   "outputs": [
    {
     "name": "stdout",
     "output_type": "stream",
     "text": [
      "1, 4, 9, 16, 25, 36, 49, 64, 81, 100, "
     ]
    }
   ],
   "source": [
    "\n",
    "\n",
    "a=range(1,11)\n",
    "for a in range(1,11):\n",
    "    print( a**2 ,end=', ')\n"
   ]
  },
  {
   "cell_type": "code",
   "execution_count": 3,
   "metadata": {},
   "outputs": [
    {
     "name": "stdout",
     "output_type": "stream",
     "text": [
      "[1, 2, 3, 4, 5, 6, 7, 8, 9, 10, 11, 12, 13, 14, 15, 16, 17, 18, 19, 20, 21, 22, 23, 24, 25, 26, 27, 28, 29, 30, 31, 32, 33, 34, 35, 36, 37, 38, 39, 40, 41, 42, 43, 44, 45, 46, 47, 48, 49, 50, 51, 52, 53, 54, 55, 56, 57, 58, 59, 60, 61, 62, 63, 64, 65, 66, 67, 68, 69, 70, 71, 72, 73, 74, 75, 76, 77, 78, 79, 80, 81, 82, 83, 84, 85, 86, 87, 88, 89, 90, 91, 92, 93, 94, 95, 96, 97, 98, 99, 100, 101, 102, 103, 104, 105, 106, 107, 108, 109, 110, 111, 112, 113, 114, 115, 116, 117, 118, 119, 120]\n"
     ]
    }
   ],
   "source": [
    "print(list(a))"
   ]
  },
  {
   "cell_type": "code",
   "execution_count": 11,
   "metadata": {},
   "outputs": [
    {
     "name": "stdout",
     "output_type": "stream",
     "text": [
      "1+3+5+...+199= 10000\n"
     ]
    }
   ],
   "source": [
    "total=0\n",
    "for j in range(1,200,2):\n",
    "    total+=j\n",
    "print('1+3+5+...+199=',total)"
   ]
  },
  {
   "cell_type": "code",
   "execution_count": 13,
   "metadata": {},
   "outputs": [
    {
     "name": "stdout",
     "output_type": "stream",
     "text": [
      "-9\n",
      "-7\n",
      "-5\n",
      "-3\n",
      "-1\n",
      "-9+-7+...+-1= -25\n"
     ]
    }
   ],
   "source": [
    "total=0\n",
    "for n in range(-9,0,2):\n",
    "    total=int(total+n)\n",
    "    print(n)\n",
    "print('-9+-7+...+-1=',total)"
   ]
  },
  {
   "cell_type": "code",
   "execution_count": 20,
   "metadata": {},
   "outputs": [
    {
     "name": "stdout",
     "output_type": "stream",
     "text": [
      "60\n"
     ]
    }
   ],
   "source": [
    "a,b,c=input().split()\n",
    "a1=int(a)\n",
    "b1=int(b)\n",
    "c1=int(c)\n",
    "if a1<=b1 and a1<=c1:\n",
    "    print(a)\n",
    "elif b1<=a1 and b1<=c1:\n",
    "    print(b)\n",
    "elif c1<=a1 and c1<=b1:\n",
    "    print(c)"
   ]
  },
  {
   "cell_type": "code",
   "execution_count": 26,
   "metadata": {},
   "outputs": [
    {
     "name": "stdout",
     "output_type": "stream",
     "text": [
      "2+3*4-6/2=11.000000\n"
     ]
    }
   ],
   "source": [
    "a=2+3*4-6/2\n",
    "print(f'2+3*4-6/2={round(a,1):f}')"
   ]
  },
  {
   "cell_type": "code",
   "execution_count": 31,
   "metadata": {},
   "outputs": [
    {
     "name": "stdout",
     "output_type": "stream",
     "text": [
      "圓的面積是： 78.5\n",
      "圓的周長是： 31.4\n"
     ]
    }
   ],
   "source": [
    "x=float(input('請輸入圓的半徑：'))\n",
    "a=x*x*3.14\n",
    "print('圓的面積是：',round(a,2))\n",
    "b=x*2*3.14\n",
    "print('圓的周長是：',round(b,2))"
   ]
  },
  {
   "cell_type": "code",
   "execution_count": 1,
   "metadata": {},
   "outputs": [
    {
     "data": {
      "text/plain": [
       "20"
      ]
     },
     "execution_count": 1,
     "metadata": {},
     "output_type": "execute_result"
    }
   ],
   "source": [
    "a,b,c,d=input().split()\n",
    "a1=int(a)\n",
    "b1=int(b)\n",
    "c1=int(c)\n",
    "d1=int(d)\n",
    "min(a1,b1,c1,d1)"
   ]
  },
  {
   "cell_type": "code",
   "execution_count": 6,
   "metadata": {},
   "outputs": [
    {
     "data": {
      "text/plain": [
       "99.5"
      ]
     },
     "execution_count": 6,
     "metadata": {},
     "output_type": "execute_result"
    }
   ],
   "source": [
    "a,b,c=input().split()\n",
    "a1=float(a)\n",
    "b1=float(b)\n",
    "c1=float(c)\n",
    "if a1>b1 and a1>c1:\n",
    "    print(a1)\n",
    "elif b1>a1 and b1>c1:\n",
    "    print(b1)\n",
    "elif c1>a1 and c1>b1:\n",
    "    print(c1)\n"
   ]
  },
  {
   "cell_type": "code",
   "execution_count": 8,
   "metadata": {},
   "outputs": [
    {
     "name": "stdout",
     "output_type": "stream",
     "text": [
      "0~50的奇數和結果是 650\n"
     ]
    }
   ],
   "source": [
    "n=0\n",
    "sum=0\n",
    "while n<50:\n",
    "    n+=2\n",
    "    sum+=n\n",
    "print('0~50的奇數和結果是',sum)"
   ]
  },
  {
   "cell_type": "code",
   "execution_count": 10,
   "metadata": {},
   "outputs": [
    {
     "name": "stdout",
     "output_type": "stream",
     "text": [
      "1723613515.8684185\n"
     ]
    }
   ],
   "source": [
    "from time import time as time_now\n",
    "now=time_now()\n",
    "print(now)"
   ]
  },
  {
   "cell_type": "code",
   "execution_count": 13,
   "metadata": {},
   "outputs": [
    {
     "name": "stdout",
     "output_type": "stream",
     "text": [
      "25\n"
     ]
    }
   ],
   "source": [
    "asum=0\n",
    "for a in range(1,1000):\n",
    "    for b in range(1,1000):\n",
    "        if (a**2+b**2)%(a*b+1)==0:\n",
    "            asum+=1\n",
    "print(asum)"
   ]
  },
  {
   "cell_type": "code",
   "execution_count": 12,
   "metadata": {},
   "outputs": [
    {
     "name": "stdout",
     "output_type": "stream",
     "text": [
      "165\n"
     ]
    }
   ],
   "source": [
    "sum=0\n",
    "for i in range(1,10):\n",
    "    for j in range(1,i+1):\n",
    "        sum+=j\n",
    "print(sum)"
   ]
  },
  {
   "cell_type": "code",
   "execution_count": 14,
   "metadata": {},
   "outputs": [],
   "source": [
    "from turtle import*\n",
    "forward(200)\n",
    "left(90)\n",
    "forward(300)"
   ]
  },
  {
   "cell_type": "code",
   "execution_count": 15,
   "metadata": {},
   "outputs": [
    {
     "name": "stdout",
     "output_type": "stream",
     "text": [
      "Happy Sunday\n",
      "Happy Sunday\n",
      "Happy Sunday\n",
      "Happy Sunday\n",
      "Happy Sunday\n",
      "Happy Sunday\n",
      "Happy Sunday\n",
      "Happy Sunday\n",
      "Happy Sunday\n"
     ]
    }
   ],
   "source": [
    "while True:\n",
    "    user_input=input('輸入任意鍵顯示 Happy　Sunday,輸入 n 退出')\n",
    "    if user_input=='n':\n",
    "        break\n",
    "    print('Happy Sunday')"
   ]
  },
  {
   "cell_type": "code",
   "execution_count": 29,
   "metadata": {},
   "outputs": [
    {
     "name": "stdout",
     "output_type": "stream",
     "text": [
      "2394\n"
     ]
    }
   ],
   "source": [
    "a=int(input())\n",
    "n=16\n",
    "sum=0\n",
    "while n<=a:\n",
    "    \n",
    "    sum+=n\n",
    "    n+=2\n",
    "print(sum)"
   ]
  },
  {
   "cell_type": "code",
   "execution_count": 36,
   "metadata": {},
   "outputs": [
    {
     "name": "stdout",
     "output_type": "stream",
     "text": [
      "\n",
      "*\n",
      "**\n",
      "***\n",
      "****\n"
     ]
    }
   ],
   "source": [
    "n=int(input())\n",
    "for a in range(0,n+1):\n",
    "    print(\"*\"*a)"
   ]
  },
  {
   "cell_type": "code",
   "execution_count": 16,
   "metadata": {},
   "outputs": [
    {
     "name": "stdout",
     "output_type": "stream",
     "text": [
      "1\n",
      "12\n",
      "123\n",
      "1234\n",
      "12345\n"
     ]
    }
   ],
   "source": [
    "a=int(input())\n",
    "b=0\n",
    "\n",
    "while b<a:\n",
    "    b+=1\n",
    "    for n in range(1,b+1):\n",
    "        print(n,end='')\n",
    "    print(end=\"\\n\")\n",
    "    "
   ]
  },
  {
   "cell_type": "code",
   "execution_count": 24,
   "metadata": {},
   "outputs": [
    {
     "name": "stdout",
     "output_type": "stream",
     "text": [
      "5*1=5 5*2=10 5*3=15 5*4=20 5*5=25 5*6=30 5*7=35 5*8=40 5*9=45 \n",
      "6*1=6 6*2=12 6*3=18 6*4=24 6*5=30 6*6=36 6*7=42 6*8=48 6*9=54 \n",
      "7*1=7 7*2=14 7*3=21 7*4=28 7*5=35 7*6=42 7*7=49 7*8=56 7*9=63 \n",
      "8*1=8 8*2=16 8*3=24 8*4=32 8*5=40 8*6=48 8*7=56 8*8=64 8*9=72 \n",
      "9*1=9 9*2=18 9*3=27 9*4=36 9*5=45 9*6=54 9*7=63 9*8=72 9*9=81 \n"
     ]
    }
   ],
   "source": [
    "a=int(input())\n",
    "count=0\n",
    "for j in range(a,10):\n",
    "    \n",
    "    for i in range(1,10):\n",
    "        k=i*j\n",
    "        print('%d*%d=%d'%(j,i,i*j),end=' ')\n",
    "        count+=1\n",
    "        if count%9==0:\n",
    "            print()\n",
    "    if j<a:\n",
    "        break\n",
    "    "
   ]
  },
  {
   "cell_type": "code",
   "execution_count": 35,
   "metadata": {},
   "outputs": [
    {
     "name": "stdout",
     "output_type": "stream",
     "text": [
      "30\n"
     ]
    }
   ],
   "source": [
    "a=int(input())\n",
    "b=int(input())\n",
    "n=0\n",
    "while n<a and n<b:\n",
    "    n+=1\n",
    "    if a%n!=0 or b%n!=0:\n",
    "        continue\n",
    "    c=n\n",
    "print(c)"
   ]
  },
  {
   "cell_type": "code",
   "execution_count": 36,
   "metadata": {},
   "outputs": [
    {
     "name": "stdout",
     "output_type": "stream",
     "text": [
      "Hello world, I am oxxo!!\n",
      "Hello world, I am xoox!!\n",
      "there are 2 dollars\n",
      "there are 2.000000 dollars\n"
     ]
    }
   ],
   "source": [
    "a = 'Hello world, I am %s!!'\n",
    "b = 'there are %d dollars'\n",
    "c = 'there are %f dollars'\n",
    "print(a % 'oxxo')  # Hello world, I am oxxo!!\n",
    "print(a % 'xoox')  # Hello world, I am xoox!!\n",
    "print(b % 2.5)     # there are 2 dollars ( 小數點被無條件捨去 )\n",
    "print(c % 2)       # there are 2.000000 dollars ( 整數轉換成浮點數 )"
   ]
  },
  {
   "cell_type": "code",
   "execution_count": 37,
   "metadata": {},
   "outputs": [
    {
     "name": "stdout",
     "output_type": "stream",
     "text": [
      "hello world\n",
      "       hello world\n",
      "       hello world\n",
      "hello        world\n",
      "hel world\n",
      "         hel world\n",
      "123.457 world\n"
     ]
    }
   ],
   "source": [
    "print('%s world' % 'hello')      # hello world\n",
    "print('%12s world' % 'hello')    #        hello world\n",
    "print('%+12s world' % 'hello')   #        hello world\n",
    "print('%-12s world' % 'hello')   # hello        world\n",
    "print('%.3s world' % 'hello')    # hel world\n",
    "print('%12.3s world' % 'hello')  #          hel world\n",
    "\n",
    "print('%.3f world' % 123.456789) # 123.457 world"
   ]
  },
  {
   "cell_type": "code",
   "execution_count": 48,
   "metadata": {},
   "outputs": [
    {
     "name": "stdout",
     "output_type": "stream",
     "text": [
      "hello world, I am world,12345\n"
     ]
    }
   ],
   "source": [
    "a = 'hello {0}, I am {0},{2}'\n",
    "b = a.format('world', 'oxxo',\"12345\")\n",
    "print(b)   # hello world, I am oxxo"
   ]
  },
  {
   "cell_type": "code",
   "execution_count": 49,
   "metadata": {},
   "outputs": [
    {
     "name": "stdout",
     "output_type": "stream",
     "text": [
      "hello world, I am oxxo\n"
     ]
    }
   ],
   "source": [
    "a = 'hello {m}, I am {n}'\n",
    "b = a.format(m='world', n='oxxo')\n",
    "print(b)   # hello world, I am oxxo"
   ]
  },
  {
   "cell_type": "code",
   "execution_count": 50,
   "metadata": {},
   "outputs": [
    {
     "name": "stdout",
     "output_type": "stream",
     "text": [
      "hello world, I am QQ\n"
     ]
    }
   ],
   "source": [
    "a = 'hello {0[x][m]}, I am {0[y][m]}'\n",
    "b = {'x': {'m':'world', 'n':'oxxo'}, 'y':{'m':'QQ', 'n':'YY'}}\n",
    "c = a.format(b)\n",
    "print(c)    # hello world, I am QQ"
   ]
  },
  {
   "cell_type": "code",
   "execution_count": 51,
   "metadata": {},
   "outputs": [
    {
     "name": "stdout",
     "output_type": "stream",
     "text": [
      "hello world, I am oxxo\n",
      "hello world     , I am oxxo      \n",
      "hello      world, I am       oxxo\n",
      "hello --world---, I am +++oxxo+++\n",
      "hello ---wor----, I am ---oxxo---\n",
      "hello ---wor----, I am  123.457  \n"
     ]
    }
   ],
   "source": [
    "a = 'hello {}, I am {}'.format('world','oxxo')\n",
    "b = 'hello {:10s}, I am {:10s}'.format('world','oxxo')\n",
    "c = 'hello {:>10s}, I am {:>10s}'.format('world','oxxo')\n",
    "d = 'hello {:-^10s}, I am {:+^10s}'.format('world','oxxo')\n",
    "e = 'hello {:-^10.3s}, I am {:-^10s}'.format('world','oxxo')\n",
    "f = 'hello {:-^10.3s}, I am {:^10.3f}'.format('world',123.456789)\n",
    "print(a)  # hello world, I am oxxo\n",
    "print(b)  # hello world     , I am oxxo\n",
    "print(c)  # hello      world, I am       oxxo\n",
    "print(d)  # hello --world---, I am +++oxxo+++\n",
    "print(e)  # hello ---wor----, I am ---oxxo---\n",
    "print(f)  # hello ---wor----, I am  123.457"
   ]
  },
  {
   "cell_type": "code",
   "execution_count": 83,
   "metadata": {},
   "outputs": [],
   "source": [
    "g = 'hello {:+>11s}, I am {:+>10s}'.format('world---','oxxo---')"
   ]
  },
  {
   "cell_type": "code",
   "execution_count": 84,
   "metadata": {},
   "outputs": [
    {
     "name": "stdout",
     "output_type": "stream",
     "text": [
      "hello +++world---, I am +++oxxo---\n"
     ]
    }
   ],
   "source": [
    "print(g)"
   ]
  },
  {
   "cell_type": "code",
   "execution_count": 86,
   "metadata": {},
   "outputs": [
    {
     "name": "stdout",
     "output_type": "stream",
     "text": [
      "hello world, I am oxxo\n"
     ]
    }
   ],
   "source": [
    "a = 'world'\n",
    "b = 'oxxo'\n",
    "c = f'hello {a}, I am {b}'\n",
    "print(c)   # hello world, I am oxxo"
   ]
  },
  {
   "cell_type": "code",
   "execution_count": 94,
   "metadata": {},
   "outputs": [
    {
     "name": "stdout",
     "output_type": "stream",
     "text": [
      "001 , 002 , 003 , 004 , 005 , 006 , 007 , 008 , 009 , 010 , \n",
      "011 , 012 , 013 , 014 , 015 , 016 , 017 , 018 , 019 , 020 , \n",
      "021 , 022 , 023 , 024 , 025 , 026 , 027 , 028 , 029 , 030 , \n",
      "031 , 032 , 033 , 034 , 035 , 036 , 037 , 038 , 039 , 040 , \n",
      "041 , 042 , 043 , 044 , 045 , 046 , 047 , 048 , 049 , 050 , \n",
      "051 , 052 , 053 , 054 , 055 , 056 , 057 , 058 , 059 , 060 , \n",
      "061 , 062 , 063 , 064 , 065 , 066 , 067 , 068 , 069 , 070 , \n",
      "071 , 072 , 073 , 074 , 075 , 076 , 077 , 078 , 079 , 080 , \n",
      "081 , 082 , 083 , 084 , 085 , 086 , 087 , 088 , 089 , 090 , \n",
      "091 , 092 , 093 , 094 , 095 , 096 , 097 , 098 , 099 , 100 , \n"
     ]
    }
   ],
   "source": [
    "count=0\n",
    "for i in range(1,101):\n",
    "    print(f'{i:03d}',end=' , ')\n",
    "    count+=1\n",
    "    if count%10==0:\n",
    "        print()"
   ]
  },
  {
   "cell_type": "code",
   "execution_count": 105,
   "metadata": {},
   "outputs": [
    {
     "name": "stdout",
     "output_type": "stream",
     "text": [
      "5\n",
      "1 letters\n"
     ]
    }
   ],
   "source": [
    "a=input()\n",
    "print(a)\n",
    "print(len(a),'letters')"
   ]
  },
  {
   "cell_type": "code",
   "execution_count": 114,
   "metadata": {},
   "outputs": [
    {
     "name": "stdout",
     "output_type": "stream",
     "text": [
      "a=2.000000 b=3.000000\n",
      "ans=5.000000\n"
     ]
    }
   ],
   "source": [
    "c,d=input().split()\n",
    "e=float(c)\n",
    "f=float(d)\n",
    "a=e**0.5\n",
    "b=f**0.5\n",
    "g=a+b\n",
    "print(f'a={a:s} b={b:s}')\n",
    "print(f'ans={g:s}')\n"
   ]
  },
  {
   "cell_type": "code",
   "execution_count": 127,
   "metadata": {},
   "outputs": [
    {
     "name": "stdout",
     "output_type": "stream",
     "text": [
      "a=2.000000 b=3.000000\n",
      "ans=5.000000\n"
     ]
    }
   ],
   "source": [
    "c,d=input().split()\n",
    "e=float(c)\n",
    "f=float(d)\n",
    "a=e**0.5\n",
    "b=f**0.5\n",
    "g=a+b\n",
    "print('a=%s b=%s'%(a,b))\n",
    "print('ans=%s'%g)"
   ]
  },
  {
   "cell_type": "code",
   "execution_count": 132,
   "metadata": {},
   "outputs": [
    {
     "ename": "ValueError",
     "evalue": "not enough values to unpack (expected 2, got 0)",
     "output_type": "error",
     "traceback": [
      "\u001b[1;31m---------------------------------------------------------------------------\u001b[0m",
      "\u001b[1;31mValueError\u001b[0m                                Traceback (most recent call last)",
      "Cell \u001b[1;32mIn[132], line 1\u001b[0m\n\u001b[1;32m----> 1\u001b[0m h,w\u001b[38;5;241m=\u001b[39m\u001b[38;5;28minput\u001b[39m()\u001b[38;5;241m.\u001b[39msplit()\n\u001b[0;32m      2\u001b[0m a\u001b[38;5;241m=\u001b[39m\u001b[38;5;28mfloat\u001b[39m(h)\n\u001b[0;32m      3\u001b[0m b\u001b[38;5;241m=\u001b[39m\u001b[38;5;28mfloat\u001b[39m(w)\n",
      "\u001b[1;31mValueError\u001b[0m: not enough values to unpack (expected 2, got 0)"
     ]
    }
   ],
   "source": [
    "h,w=input().split()\n",
    "a=float(h)\n",
    "b=float(w)\n",
    "BMI=b/a**2\n",
    "t=round(BMI,2)\n",
    "print(t)"
   ]
  },
  {
   "cell_type": "code",
   "execution_count": 130,
   "metadata": {},
   "outputs": [
    {
     "name": "stdout",
     "output_type": "stream",
     "text": [
      "19\n"
     ]
    }
   ],
   "source": [
    "a,b,c,d,e,f,g,h,i=input().split()\n",
    "a1=int(a)\n",
    "b1=int(b)\n",
    "c1=int(c)\n",
    "d1=int(d)\n",
    "e1=int(e)\n",
    "f1=int(f)\n",
    "g1=int(g)\n",
    "h1=int(h)\n",
    "i1=int(i)\n",
    "print(a1+b1+c1+d1+e1+f1+g1+h1+i1)"
   ]
  },
  {
   "cell_type": "code",
   "execution_count": 131,
   "metadata": {},
   "outputs": [
    {
     "name": "stdout",
     "output_type": "stream",
     "text": [
      "a=9 b=12\n",
      "a=12 b=9\n"
     ]
    }
   ],
   "source": [
    "a,b=input().split()\n",
    "print('a=%s b=%s'%(a,b))\n",
    "print('a=%s b=%s'%(b,a))"
   ]
  },
  {
   "cell_type": "code",
   "execution_count": 20,
   "metadata": {},
   "outputs": [
    {
     "name": "stdout",
     "output_type": "stream",
     "text": [
      "42\n"
     ]
    }
   ],
   "source": [
    "c,d=input().split()\n",
    "a=int(c)\n",
    "b=int(d)\n",
    "n=0\n",
    "while n<=a*b:\n",
    "    n+=1\n",
    "    if n%a==0 and n%b==0:\n",
    "        print(n)\n",
    "        break"
   ]
  },
  {
   "cell_type": "code",
   "execution_count": null,
   "metadata": {},
   "outputs": [],
   "source": [
    "a=int(input())\n",
    "b=int(input())\n",
    "n=0\n",
    "while n<a and n<b:\n",
    "    n+=1\n",
    "    if a%n!=0 or b%n!=0:\n",
    "        continue\n",
    "    c=n\n",
    "print(c)"
   ]
  },
  {
   "cell_type": "code",
   "execution_count": 25,
   "metadata": {},
   "outputs": [
    {
     "name": "stdout",
     "output_type": "stream",
     "text": [
      "Ans a\n"
     ]
    }
   ],
   "source": [
    "a=input()\n",
    "print('Ans',a)"
   ]
  },
  {
   "cell_type": "code",
   "execution_count": 26,
   "metadata": {},
   "outputs": [
    {
     "name": "stdout",
     "output_type": "stream",
     "text": [
      "17\n"
     ]
    }
   ],
   "source": [
    "a=input()\n",
    "print(len(a))"
   ]
  },
  {
   "cell_type": "code",
   "execution_count": 31,
   "metadata": {},
   "outputs": [
    {
     "name": "stdout",
     "output_type": "stream",
     "text": [
      "165\n"
     ]
    }
   ],
   "source": [
    "a=int(input())\n",
    "sum=0\n",
    "for n in range(10,a+1):\n",
    "    sum+=n\n",
    "print(sum)"
   ]
  },
  {
   "cell_type": "code",
   "execution_count": 35,
   "metadata": {},
   "outputs": [
    {
     "name": "stdout",
     "output_type": "stream",
     "text": [
      "Valid\n"
     ]
    }
   ],
   "source": [
    "d,e,f=input().split()\n",
    "a=int(d)\n",
    "b=int(e)\n",
    "c=int(f)\n",
    "if (a+b)>c and (a+c)>b and (b+c)>a:\n",
    "    print('Valid')\n",
    "else:\n",
    "    print('Invalid')"
   ]
  },
  {
   "cell_type": "code",
   "execution_count": 38,
   "metadata": {},
   "outputs": [
    {
     "name": "stdout",
     "output_type": "stream",
     "text": [
      "*******\n",
      "total:7\n"
     ]
    }
   ],
   "source": [
    "a=input()\n",
    "b=len(a)\n",
    "print('*'*b)\n",
    "print('total:%s'%b)"
   ]
  },
  {
   "cell_type": "code",
   "execution_count": 51,
   "metadata": {},
   "outputs": [
    {
     "name": "stdout",
     "output_type": "stream",
     "text": [
      "00:00:05\n"
     ]
    }
   ],
   "source": [
    "a=int(input())\n",
    "b=a//60\n",
    "e=b%60\n",
    "c=b//60\n",
    "d=a%60\n",
    "print(f'{c:02d}:{e:02d}:{d:02d}')"
   ]
  },
  {
   "cell_type": "code",
   "execution_count": 4,
   "metadata": {},
   "outputs": [
    {
     "name": "stdout",
     "output_type": "stream",
     "text": [
      "35.6is normal\n"
     ]
    }
   ],
   "source": [
    "a=float(input())\n",
    "if a>=37.5:\n",
    "    print('%sis over'%a)\n",
    "elif 37<=a<=37.4:\n",
    "    print('%sis little over'%a)\n",
    "elif 34<=a<=36.9:\n",
    "    print('%sis normal'%a)\n",
    "else:\n",
    "    print('%sis error'%a)"
   ]
  },
  {
   "cell_type": "code",
   "execution_count": 5,
   "metadata": {},
   "outputs": [
    {
     "name": "stdout",
     "output_type": "stream",
     "text": [
      "70 is C\n"
     ]
    }
   ],
   "source": [
    "a=int(input())\n",
    "if a>=100:\n",
    "    print('%s is error'%a)\n",
    "elif 90<=a<100:\n",
    "    print('%s is A'%a)\n",
    "elif 80<=a<90:\n",
    "    print('%s is B'%a)\n",
    "elif 70<=a<80:\n",
    "    print('%s is C'%a)\n",
    "elif 60<=a<70:\n",
    "    print('%s is D'%a)\n",
    "elif 0<=a<60:\n",
    "    print('%s is E'%a)\n",
    "else:\n",
    "    print('%s is error'%a)"
   ]
  },
  {
   "cell_type": "code",
   "execution_count": 7,
   "metadata": {},
   "outputs": [
    {
     "name": "stdout",
     "output_type": "stream",
     "text": [
      "12 is winter\n"
     ]
    }
   ],
   "source": [
    "a=int(input())\n",
    "if a>=13:\n",
    "    print('input error')\n",
    "elif 3<=a<=5:\n",
    "    print('%s is spring'%a)\n",
    "elif 6<=a<=8:\n",
    "    print('%s is summer'%a)\n",
    "elif 9<=a<=11:\n",
    "    print('%s is autumn'%a)\n",
    "elif 1<=a<=2 or a==12:\n",
    "    print('%s is winter'%a)\n",
    "else:\n",
    "    print('input error')"
   ]
  },
  {
   "cell_type": "code",
   "execution_count": 8,
   "metadata": {},
   "outputs": [
    {
     "name": "stdout",
     "output_type": "stream",
     "text": [
      "pay 0 money\n"
     ]
    }
   ],
   "source": [
    "a=int(input())\n",
    "if a>=2000000:\n",
    "    print(f'pay {a*0.3:.1f} money')\n",
    "elif 1000000<=a<2000000:\n",
    "    print(f'pay {a*0.21:.1f} money')\n",
    "elif 600000<=a<1000000:\n",
    "    print(f'pay {a*0.13:.1f} money')\n",
    "elif 300000<=a<600000:\n",
    "    print(f'pay {a*0.06:.1f} money')\n",
    "else:\n",
    "    print('pay 0 money')"
   ]
  },
  {
   "cell_type": "code",
   "execution_count": 37,
   "metadata": {},
   "outputs": [
    {
     "name": "stdout",
     "output_type": "stream",
     "text": [
      "95% discount is 28499.05\n"
     ]
    }
   ],
   "source": [
    "a=int(input())\n",
    "if a>=100000:\n",
    "    print(f'80% discount is {a*0.8:.1f}')\n",
    "elif 50000<=a<100000:\n",
    "    print(f'85% discount is {a*0.85:.1f}')\n",
    "elif 30000<=a<50000:\n",
    "    print(f'90% discount is {a*0.9:.1f}')\n",
    "elif 10000<=a<30000:\n",
    "    \n",
    "    print('95% discount is',float(a*0.95))\n",
    "else:\n",
    "    print(f'no discount is {a:d}')"
   ]
  },
  {
   "cell_type": "code",
   "execution_count": 16,
   "metadata": {},
   "outputs": [
    {
     "name": "stdout",
     "output_type": "stream",
     "text": [
      "<built-in method upper of str object at 0x00007FFE19C33108>\n"
     ]
    }
   ],
   "source": [
    "a=input()\n",
    "b=len(a)\n",
    "c=list(a)\n",
    "for n in range(0,b):\n",
    "    if n%2==0:\n",
    "        \n",
    "print(d)"
   ]
  },
  {
   "cell_type": "code",
   "execution_count": 19,
   "metadata": {},
   "outputs": [
    {
     "name": "stdout",
     "output_type": "stream",
     "text": [
      "<built-in method upper of str object at 0x00000256014469A0>\n"
     ]
    }
   ],
   "source": [
    "a=str(input())\n",
    "print(a.upper)"
   ]
  },
  {
   "cell_type": "code",
   "execution_count": 20,
   "metadata": {},
   "outputs": [
    {
     "name": "stdout",
     "output_type": "stream",
     "text": [
      "PaNdA\n"
     ]
    }
   ],
   "source": [
    "def alternate_case(s):\n",
    "    result = \"\"\n",
    "    for i in range(len(s)):\n",
    "        if i % 2 == 0:\n",
    "            result += s[i].upper()\n",
    "        else:\n",
    "            result += s[i].lower()\n",
    "    return result\n",
    "\n",
    "user_input = input()\n",
    "\n",
    "print(alternate_case(user_input))"
   ]
  },
  {
   "cell_type": "code",
   "execution_count": 9,
   "metadata": {},
   "outputs": [
    {
     "name": "stdout",
     "output_type": "stream",
     "text": [
      "PaNdA\n",
      "<class 'str'>\n"
     ]
    }
   ],
   "source": [
    "a=''\n",
    "b=input()\n",
    "for n in range(len(b)):\n",
    "    if n%2==0:\n",
    "        a+=b[n].upper()\n",
    "    else:\n",
    "        a+=b[n].lower()\n",
    "print(a)"
   ]
  },
  {
   "cell_type": "code",
   "execution_count": 8,
   "metadata": {},
   "outputs": [
    {
     "name": "stdout",
     "output_type": "stream",
     "text": [
      "<class 'str'>\n",
      "p\n"
     ]
    }
   ],
   "source": [
    "a=''\n",
    "b=input()\n",
    "print(type(b))\n",
    "a+=b[0]\n",
    "print(a)"
   ]
  },
  {
   "cell_type": "code",
   "execution_count": 24,
   "metadata": {},
   "outputs": [
    {
     "name": "stdout",
     "output_type": "stream",
     "text": [
      "2000 is leap year\n"
     ]
    }
   ],
   "source": [
    "a=int(input())\n",
    "if a%4==0 and a%100!=0:\n",
    "    print(a,'is leap year')\n",
    "elif a%100==0 and a%400==0:\n",
    "    print(a,'is leap year')\n",
    "else:\n",
    "    print(a,'is common year')"
   ]
  },
  {
   "cell_type": "code",
   "execution_count": 13,
   "metadata": {},
   "outputs": [
    {
     "name": "stdout",
     "output_type": "stream",
     "text": [
      "4\n"
     ]
    }
   ],
   "source": [
    "a1,b1,c1=input().split()\n",
    "a=int(a1)\n",
    "b=int(b1)\n",
    "c=int(c1)\n",
    "if a<c and a<b:\n",
    "\tprint(a)\n",
    "elif b<a and b<c:\n",
    "\tprint(b)\n",
    "else:\n",
    "\tprint(c)"
   ]
  },
  {
   "cell_type": "code",
   "execution_count": 48,
   "metadata": {},
   "outputs": [
    {
     "name": "stdout",
     "output_type": "stream",
     "text": [
      "sum:29\n",
      "squ: 5.385164807134504\n",
      "squi: 5\n",
      "squi is odd\n"
     ]
    }
   ],
   "source": [
    "a1,b1,c1,d1,e1,f1,g1,h1,i1=input().split()\n",
    "a=int(a1)\n",
    "b=int(b1)\n",
    "c=int(c1)\n",
    "d=int(d1)\n",
    "e=int(e1)\n",
    "f=int(f1)\n",
    "g=int(g1)\n",
    "h=int(h1)\n",
    "i=int(i1)\n",
    "sum=a+b+c+d+e+f+g+h+i\n",
    "print(\"sum:\",sum,sep='')\n",
    "squ=(a+b+c+d+e+f+g+h+i)**0.5\n",
    "print(\"squ:\",squ,sep='')\n",
    "squi=int(squ)\n",
    "print(\"squi:\",squi,sep='')\n",
    "if squi%2==0:\n",
    "    print('squi is even')\n",
    "else:\n",
    "    print('squi is odd')"
   ]
  },
  {
   "cell_type": "code",
   "execution_count": 49,
   "metadata": {},
   "outputs": [
    {
     "name": "stdout",
     "output_type": "stream",
     "text": [
      "Invalid\n"
     ]
    }
   ],
   "source": [
    "a,b,c=input().split()\n",
    "a1=int(a)\n",
    "b1=int(b)\n",
    "c1=int(c)\n",
    "if a1==b1 or a1==c1 or b1==c1:\n",
    "    print('Valid')\n",
    "else:\n",
    "    print('Invalid')"
   ]
  },
  {
   "cell_type": "code",
   "execution_count": 50,
   "metadata": {},
   "outputs": [
    {
     "name": "stdout",
     "output_type": "stream",
     "text": [
      "park time:1h:9m\n",
      "pay:60money\n"
     ]
    }
   ],
   "source": [
    "a=int(input())\n",
    "b=a//60\n",
    "c=a%60\n",
    "print('park time:',b,'h:',c,'m',sep='')\n",
    "if 0<a<=60:\n",
    "    print('pay:',20,' money',sep='')\n",
    "elif 60<a<=420:\n",
    "    print('pay:',20+(a//60)*40,' money',sep='')\n",
    "else:\n",
    "    print('pay:',300,' money',sep='')"
   ]
  },
  {
   "cell_type": "code",
   "execution_count": 51,
   "metadata": {},
   "outputs": [
    {
     "name": "stdout",
     "output_type": "stream",
     "text": [
      "Tku  Peiyu\n"
     ]
    }
   ],
   "source": [
    "a=input()\n",
    "print('Tku ',a,sep='')"
   ]
  },
  {
   "cell_type": "code",
   "execution_count": 52,
   "metadata": {},
   "outputs": [
    {
     "name": "stdout",
     "output_type": "stream",
     "text": [
      "0\n"
     ]
    }
   ],
   "source": [
    "a=input()\n",
    "print(len(a))"
   ]
  },
  {
   "cell_type": "code",
   "execution_count": 54,
   "metadata": {},
   "outputs": [
    {
     "name": "stdout",
     "output_type": "stream",
     "text": [
      "5.00\n"
     ]
    }
   ],
   "source": [
    "a=input()\n",
    "b=len(a)\n",
    "print('%.2f'%b)"
   ]
  },
  {
   "cell_type": "code",
   "execution_count": 55,
   "metadata": {},
   "outputs": [
    {
     "ename": "ValueError",
     "evalue": "could not convert string to float: ''",
     "output_type": "error",
     "traceback": [
      "\u001b[1;31m---------------------------------------------------------------------------\u001b[0m",
      "\u001b[1;31mValueError\u001b[0m                                Traceback (most recent call last)",
      "Cell \u001b[1;32mIn[55], line 1\u001b[0m\n\u001b[1;32m----> 1\u001b[0m a\u001b[38;5;241m=\u001b[39m\u001b[38;5;28;43mfloat\u001b[39;49m\u001b[43m(\u001b[49m\u001b[38;5;28;43minput\u001b[39;49m\u001b[43m(\u001b[49m\u001b[43m)\u001b[49m\u001b[43m)\u001b[49m\n\u001b[0;32m      2\u001b[0m b\u001b[38;5;241m=\u001b[39m\u001b[38;5;28mfloat\u001b[39m(\u001b[38;5;28minput\u001b[39m())\n\u001b[0;32m      3\u001b[0m c\u001b[38;5;241m=\u001b[39m\u001b[38;5;28mfloat\u001b[39m(\u001b[38;5;28minput\u001b[39m())\n",
      "\u001b[1;31mValueError\u001b[0m: could not convert string to float: ''"
     ]
    }
   ],
   "source": [
    "a=float(input())\n",
    "b=float(input())\n",
    "c=float(input())\n",
    "d=(a+b)*c/2\n",
    "print(d)\n"
   ]
  },
  {
   "cell_type": "code",
   "execution_count": 2,
   "metadata": {},
   "outputs": [
    {
     "name": "stdout",
     "output_type": "stream",
     "text": [
      "t=2.0 b=5.0 h=4.8 area=16.8\n"
     ]
    }
   ],
   "source": [
    "a=float(input())\n",
    "b=float(input())\n",
    "c=float(input())\n",
    "d=(a+b)*c/2\n",
    "print('t=%s b=%s h=%s area=%s'%(a,b,c,d))"
   ]
  },
  {
   "cell_type": "code",
   "execution_count": 1,
   "metadata": {},
   "outputs": [
    {
     "name": "stdout",
     "output_type": "stream",
     "text": [
      "153,"
     ]
    }
   ],
   "source": [
    "a1,b1=input().split()\n",
    "a=int(a1)\n",
    "b=int(b1)\n",
    "for n in range(a,b+1):\n",
    "    if n>100:\n",
    "        d=[int(t) for t in str(n)]\n",
    "        if d[2]**3+d[1]**3+d[0]**3==n:\n",
    "            print(n,end=',')\n",
    "        else:\n",
    "            continue"
   ]
  },
  {
   "cell_type": "code",
   "execution_count": 10,
   "metadata": {},
   "outputs": [
    {
     "data": {
      "text/plain": [
       "3495"
      ]
     },
     "execution_count": 10,
     "metadata": {},
     "output_type": "execute_result"
    }
   ],
   "source": [
    "3504\n",
    "3495"
   ]
  },
  {
   "cell_type": "code",
   "execution_count": 12,
   "metadata": {},
   "outputs": [
    {
     "name": "stdout",
     "output_type": "stream",
     "text": [
      "('p', 'a', 'n', 'd', 'a')\n"
     ]
    }
   ],
   "source": [
    "a=input()\n",
    "b=tuple(a)\n",
    "print(b)"
   ]
  },
  {
   "cell_type": "code",
   "execution_count": null,
   "metadata": {},
   "outputs": [],
   "source": []
  }
 ],
 "metadata": {
  "kernelspec": {
   "display_name": "Python 3",
   "language": "python",
   "name": "python3"
  },
  "language_info": {
   "codemirror_mode": {
    "name": "ipython",
    "version": 3
   },
   "file_extension": ".py",
   "mimetype": "text/x-python",
   "name": "python",
   "nbconvert_exporter": "python",
   "pygments_lexer": "ipython3",
   "version": "3.12.4"
  }
 },
 "nbformat": 4,
 "nbformat_minor": 2
}
