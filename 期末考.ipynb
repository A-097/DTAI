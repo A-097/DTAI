{
 "cells": [
  {
   "cell_type": "code",
   "execution_count": 1,
   "metadata": {},
   "outputs": [
    {
     "name": "stdout",
     "output_type": "stream",
     "text": [
      "4\n"
     ]
    }
   ],
   "source": [
    "#5\n",
    "a1,b1,c1=input().split()\n",
    "a=int(a1)\n",
    "b=int(b1)\n",
    "c=int(c1)\n",
    "if a<c and a<b:\n",
    "\tprint(a)\n",
    "elif b<a and b<c:\n",
    "\tprint(b)\n",
    "else:\n",
    "\tprint(c)"
   ]
  },
  {
   "cell_type": "code",
   "execution_count": 2,
   "metadata": {},
   "outputs": [
    {
     "name": "stdout",
     "output_type": "stream",
     "text": [
      "2208\n"
     ]
    }
   ],
   "source": [
    "#8\n",
    "a=int(input())\n",
    "sum=0\n",
    "for n in range(1,a+1):\n",
    "    if n%3!=0 and n%7!=0:\n",
    "        continue\n",
    "    else:\n",
    "        \n",
    "        sum+=n\n",
    "        \n",
    "print(sum)"
   ]
  },
  {
   "cell_type": "code",
   "execution_count": 3,
   "metadata": {},
   "outputs": [
    {
     "name": "stdout",
     "output_type": "stream",
     "text": [
      "*\n",
      "**\n",
      "***\n",
      "****\n",
      "*****\n"
     ]
    }
   ],
   "source": [
    "#9\n",
    "n=int(input())\n",
    "for a in range(1,n+1):\n",
    "    print(\"*\"*a)"
   ]
  },
  {
   "cell_type": "code",
   "execution_count": 4,
   "metadata": {},
   "outputs": [
    {
     "name": "stdout",
     "output_type": "stream",
     "text": [
      "1\n",
      "12\n",
      "123\n",
      "1234\n",
      "12345\n"
     ]
    }
   ],
   "source": [
    "#10\n",
    "a=int(input())\n",
    "b=0\n",
    "\n",
    "while b<a:\n",
    "    b+=1\n",
    "    for n in range(1,b+1):\n",
    "        print(n,end=(''))\n",
    "    print(end=\"\\n\")"
   ]
  },
  {
   "cell_type": "code",
   "execution_count": 5,
   "metadata": {},
   "outputs": [
    {
     "name": "stdout",
     "output_type": "stream",
     "text": [
      "Invalid\n"
     ]
    }
   ],
   "source": [
    "#14\n",
    "d,e,f=input().split()\n",
    "a=int(d)\n",
    "b=int(e)\n",
    "c=int(f)\n",
    "if (a+b)>c and (a+c)>b and (b+c)>a:\n",
    "    print('Valid')\n",
    "else:\n",
    "    print('Invalid')"
   ]
  },
  {
   "cell_type": "code",
   "execution_count": 6,
   "metadata": {},
   "outputs": [
    {
     "name": "stdout",
     "output_type": "stream",
     "text": [
      "2024 is leap year\n"
     ]
    }
   ],
   "source": [
    "#18\n",
    "a=int(input())\n",
    "if a%4==0 and a%100!=0:\n",
    "    print(a,'is leap year')\n",
    "elif a%100==0 and a%400==0:\n",
    "    print(a,'is leap year')\n",
    "else:\n",
    "    print(a,'is common year')"
   ]
  },
  {
   "cell_type": "code",
   "execution_count": 7,
   "metadata": {},
   "outputs": [
    {
     "name": "stdout",
     "output_type": "stream",
     "text": [
      "5*1=5 5*2=10 5*3=15 5*4=20 5*5=25 5*6=30 5*7=35 5*8=40 5*9=45 \n",
      "6*1=6 6*2=12 6*3=18 6*4=24 6*5=30 6*6=36 6*7=42 6*8=48 6*9=54 \n",
      "7*1=7 7*2=14 7*3=21 7*4=28 7*5=35 7*6=42 7*7=49 7*8=56 7*9=63 \n",
      "8*1=8 8*2=16 8*3=24 8*4=32 8*5=40 8*6=48 8*7=56 8*8=64 8*9=72 \n",
      "9*1=9 9*2=18 9*3=27 9*4=36 9*5=45 9*6=54 9*7=63 9*8=72 9*9=81 \n"
     ]
    }
   ],
   "source": [
    "#19\n",
    "a=int(input())\n",
    "count=0\n",
    "for j in range(a,10):\n",
    "    \n",
    "    for i in range(1,10):\n",
    "        k=i*j\n",
    "        print('%d*%d=%d'%(j,i,i*j),end=' ')\n",
    "        count+=1\n",
    "        if count%9==0:\n",
    "            print()\n",
    "    if j<a:\n",
    "        break"
   ]
  },
  {
   "cell_type": "code",
   "execution_count": 8,
   "metadata": {},
   "outputs": [
    {
     "name": "stdout",
     "output_type": "stream",
     "text": [
      "Ans 99\n"
     ]
    }
   ],
   "source": [
    "#21\n",
    "a=input()\n",
    "print('Ans',a)"
   ]
  },
  {
   "cell_type": "code",
   "execution_count": 9,
   "metadata": {},
   "outputs": [
    {
     "name": "stdout",
     "output_type": "stream",
     "text": [
      "19\n"
     ]
    }
   ],
   "source": [
    "#22\n",
    "a,b,c,d,e,f,g,h,i=input().split()\n",
    "a1=int(a)\n",
    "b1=int(b)\n",
    "c1=int(c)\n",
    "d1=int(d)\n",
    "e1=int(e)\n",
    "f1=int(f)\n",
    "g1=int(g)\n",
    "h1=int(h)\n",
    "i1=int(i)\n",
    "print(a1+b1+c1+d1+e1+f1+g1+h1+i1)"
   ]
  },
  {
   "cell_type": "code",
   "execution_count": 10,
   "metadata": {},
   "outputs": [
    {
     "name": "stdout",
     "output_type": "stream",
     "text": [
      "4\n"
     ]
    }
   ],
   "source": [
    "#23\n",
    "a=input()\n",
    "print(len(a))"
   ]
  },
  {
   "cell_type": "code",
   "execution_count": 11,
   "metadata": {},
   "outputs": [
    {
     "name": "stdout",
     "output_type": "stream",
     "text": [
      "0 is E\n"
     ]
    }
   ],
   "source": [
    "#26\n",
    "a=int(input())\n",
    "if a>=100:\n",
    "    print('%s is error'%a)\n",
    "elif 90<=a<100:\n",
    "    print('%s is A'%a)\n",
    "elif 80<=a<90:\n",
    "    print('%s is B'%a)\n",
    "elif 70<=a<80:\n",
    "    print('%s is C'%a)\n",
    "elif 60<=a<70:\n",
    "    print('%s is D'%a)\n",
    "elif 0<=a<60:\n",
    "    print('%s is E'%a)\n",
    "else:\n",
    "    print('%s is error'%a)"
   ]
  },
  {
   "cell_type": "code",
   "execution_count": 12,
   "metadata": {},
   "outputs": [
    {
     "name": "stdout",
     "output_type": "stream",
     "text": [
      "85% discount is 79129.9\n"
     ]
    }
   ],
   "source": [
    "#29\n",
    "a=int(input())\n",
    "if a>=100000:\n",
    "    print(f'80% discount is {a*0.8:.1f}')\n",
    "elif 50000<=a<100000:\n",
    "    print(f'85% discount is {a*0.85:.1f}')\n",
    "elif 30000<=a<50000:\n",
    "    print(f'90% discount is {a*0.9:.1f}')\n",
    "elif 10000<=a<30000:\n",
    "    \n",
    "    print('95% discount is',float(a*0.95))\n",
    "else:\n",
    "    print(f'no discount is {a:d}')"
   ]
  },
  {
   "cell_type": "code",
   "execution_count": 14,
   "metadata": {},
   "outputs": [
    {
     "name": "stdout",
     "output_type": "stream",
     "text": [
      "2,"
     ]
    }
   ],
   "source": [
    "#30\n",
    "a,b,c=input().split()\n",
    "a1=int(a)\n",
    "b1=int(b)\n",
    "c1=int(c)\n",
    "for n in range(a1,b1,c1):\n",
    "    print(n,end=',')"
   ]
  },
  {
   "cell_type": "code",
   "execution_count": 15,
   "metadata": {},
   "outputs": [
    {
     "name": "stdout",
     "output_type": "stream",
     "text": [
      "[5]\n"
     ]
    }
   ],
   "source": [
    "#32\n",
    "a,b,c=input().split()\n",
    "a1=int(a)\n",
    "b1=int(b)\n",
    "c1=int(c)\n",
    "d=range(a1,b1,c1)\n",
    "print(list(d))\n"
   ]
  },
  {
   "cell_type": "code",
   "execution_count": 16,
   "metadata": {},
   "outputs": [
    {
     "name": "stdout",
     "output_type": "stream",
     "text": [
      "Valid\n"
     ]
    }
   ],
   "source": [
    "#33\n",
    "a,b,c=input().split()\n",
    "a1=int(a)\n",
    "b1=int(b)\n",
    "c1=int(c)\n",
    "if a1==b1 or a1==c1 or b1==c1:\n",
    "    print('Valid')\n",
    "else:\n",
    "    print('Invalid')"
   ]
  },
  {
   "cell_type": "code",
   "execution_count": 25,
   "metadata": {},
   "outputs": [
    {
     "name": "stdout",
     "output_type": "stream",
     "text": [
      "park time:0h:30m\n",
      "pay:20 money\n"
     ]
    }
   ],
   "source": [
    "#34\n",
    "a=int(input())\n",
    "b=a//60\n",
    "c=a%60\n",
    "print('park time:',b,'h:',c,'m',sep='')\n",
    "if 0<a<=60:\n",
    "    print('pay:',20,' money',sep='')\n",
    "elif 60<a<=420:\n",
    "    print('pay:',20+(a//60)*40,' money',sep='')\n",
    "else:\n",
    "    print('pay:',300,' money',sep='')"
   ]
  },
  {
   "cell_type": "code",
   "execution_count": 18,
   "metadata": {},
   "outputs": [
    {
     "name": "stdout",
     "output_type": "stream",
     "text": [
      "153,370,371,407,"
     ]
    }
   ],
   "source": [
    "#35\n",
    "a1,b1=input().split()\n",
    "a=int(a1)\n",
    "b=int(b1)\n",
    "for n in range(a,b+1):\n",
    "    if n>100:\n",
    "        d=[int(t) for t in str(n)]\n",
    "        if d[2]**3+d[1]**3+d[0]**3==n:\n",
    "            print(n,end=',')\n",
    "        else:\n",
    "            continue"
   ]
  },
  {
   "cell_type": "code",
   "execution_count": 19,
   "metadata": {},
   "outputs": [
    {
     "name": "stdout",
     "output_type": "stream",
     "text": [
      "t=5.0 b=4.0 h=5.0 area=22.5\n"
     ]
    }
   ],
   "source": [
    "#40\n",
    "a=float(input())\n",
    "b=float(input())\n",
    "c=float(input())\n",
    "d=(a+b)*c/2\n",
    "print('t=%s b=%s h=%s area=%s'%(a,b,c,d))"
   ]
  },
  {
   "cell_type": "code",
   "execution_count": 21,
   "metadata": {},
   "outputs": [
    {
     "name": "stdout",
     "output_type": "stream",
     "text": [
      "4.0\n"
     ]
    }
   ],
   "source": [
    "#41\n",
    "a=float(input())\n",
    "b=float(input())\n",
    "print(a%b)"
   ]
  },
  {
   "cell_type": "code",
   "execution_count": 24,
   "metadata": {},
   "outputs": [
    {
     "name": "stdout",
     "output_type": "stream",
     "text": [
      "0.8\n"
     ]
    }
   ],
   "source": [
    "#43\n",
    "a=float(input())\n",
    "b=float(input())\n",
    "c=a/b\n",
    "print(str(c))"
   ]
  },
  {
   "cell_type": "code",
   "execution_count": null,
   "metadata": {},
   "outputs": [],
   "source": []
  }
 ],
 "metadata": {
  "kernelspec": {
   "display_name": "python_saul",
   "language": "python",
   "name": "python3"
  },
  "language_info": {
   "codemirror_mode": {
    "name": "ipython",
    "version": 3
   },
   "file_extension": ".py",
   "mimetype": "text/x-python",
   "name": "python",
   "nbconvert_exporter": "python",
   "pygments_lexer": "ipython3",
   "version": "3.12.4"
  }
 },
 "nbformat": 4,
 "nbformat_minor": 2
}
